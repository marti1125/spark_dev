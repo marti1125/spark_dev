{
 "cells": [
  {
   "cell_type": "code",
   "execution_count": 1,
   "metadata": {},
   "outputs": [],
   "source": [
    "from pyspark import SparkConf, SparkContext"
   ]
  },
  {
   "cell_type": "code",
   "execution_count": 2,
   "metadata": {},
   "outputs": [],
   "source": [
    "conf = SparkConf().setMaster(\"local\").setAppName(\"SparkExercises\")"
   ]
  },
  {
   "cell_type": "code",
   "execution_count": 3,
   "metadata": {},
   "outputs": [
    {
     "name": "stderr",
     "output_type": "stream",
     "text": [
      "Setting default log level to \"WARN\".\n",
      "To adjust logging level use sc.setLogLevel(newLevel). For SparkR, use setLogLevel(newLevel).\n",
      "23/11/04 17:07:30 WARN NativeCodeLoader: Unable to load native-hadoop library for your platform... using builtin-java classes where applicable\n"
     ]
    }
   ],
   "source": [
    "sc = SparkContext(conf = conf)"
   ]
  },
  {
   "cell_type": "code",
   "execution_count": 4,
   "metadata": {},
   "outputs": [],
   "source": [
    "rdd = sc.textFile(\"sample_words.txt\")"
   ]
  },
  {
   "cell_type": "code",
   "execution_count": 8,
   "metadata": {},
   "outputs": [
    {
     "data": {
      "text/plain": [
       "[('this mango company animal', 4),\n",
       " ('cat dog ant mic laptop', 5),\n",
       " ('chair switch mobile am charger cover', 6),\n",
       " ('amanda any alarm ant', 4)]"
      ]
     },
     "execution_count": 8,
     "metadata": {},
     "output_type": "execute_result"
    }
   ],
   "source": [
    "rdd.map(lambda x: (x, len(x.split(\" \")))).collect()"
   ]
  },
  {
   "cell_type": "code",
   "execution_count": 11,
   "metadata": {},
   "outputs": [
    {
     "data": {
      "text/plain": [
       "['this',\n",
       " 'mango',\n",
       " 'company',\n",
       " 'animal',\n",
       " 'cat',\n",
       " 'dog',\n",
       " 'ant',\n",
       " 'mic',\n",
       " 'laptop',\n",
       " 'chair',\n",
       " 'switch',\n",
       " 'mobile',\n",
       " 'am',\n",
       " 'charger',\n",
       " 'cover',\n",
       " 'amanda',\n",
       " 'any',\n",
       " 'alarm',\n",
       " 'ant']"
      ]
     },
     "execution_count": 11,
     "metadata": {},
     "output_type": "execute_result"
    }
   ],
   "source": [
    "rdd2 = rdd.flatMap(lambda x: x.split(\" \"))\n",
    "rdd2.collect()"
   ]
  },
  {
   "cell_type": "code",
   "execution_count": 13,
   "metadata": {},
   "outputs": [
    {
     "data": {
      "text/plain": [
       "[('this', 4),\n",
       " ('mango', 5),\n",
       " ('company', 7),\n",
       " ('animal', 6),\n",
       " ('cat', 3),\n",
       " ('dog', 3),\n",
       " ('ant', 3),\n",
       " ('mic', 3),\n",
       " ('laptop', 6),\n",
       " ('chair', 5),\n",
       " ('switch', 6),\n",
       " ('mobile', 6),\n",
       " ('am', 2),\n",
       " ('charger', 7),\n",
       " ('cover', 5),\n",
       " ('amanda', 6),\n",
       " ('any', 3),\n",
       " ('alarm', 5),\n",
       " ('ant', 3)]"
      ]
     },
     "execution_count": 13,
     "metadata": {},
     "output_type": "execute_result"
    }
   ],
   "source": [
    "rdd3 = rdd2.map(lambda x: (x, len(x)))\n",
    "rdd3.collect()"
   ]
  },
  {
   "cell_type": "code",
   "execution_count": 15,
   "metadata": {},
   "outputs": [
    {
     "data": {
      "text/plain": [
       "[('this', [4]),\n",
       " ('mango', [5]),\n",
       " ('company', [7]),\n",
       " ('animal', [6]),\n",
       " ('cat', [3]),\n",
       " ('dog', [3]),\n",
       " ('ant', [3, 3]),\n",
       " ('mic', [3]),\n",
       " ('laptop', [6]),\n",
       " ('chair', [5]),\n",
       " ('switch', [6]),\n",
       " ('mobile', [6]),\n",
       " ('am', [2]),\n",
       " ('charger', [7]),\n",
       " ('cover', [5]),\n",
       " ('amanda', [6]),\n",
       " ('any', [3]),\n",
       " ('alarm', [5])]"
      ]
     },
     "execution_count": 15,
     "metadata": {},
     "output_type": "execute_result"
    }
   ],
   "source": [
    "rdd3.groupByKey().mapValues(list).collect()"
   ]
  },
  {
   "cell_type": "code",
   "execution_count": 20,
   "metadata": {},
   "outputs": [
    {
     "data": {
      "text/plain": [
       "[('this', 1),\n",
       " ('mango', 1),\n",
       " ('company', 1),\n",
       " ('animal', 1),\n",
       " ('cat', 1),\n",
       " ('dog', 1),\n",
       " ('ant', 1),\n",
       " ('mic', 1),\n",
       " ('laptop', 1),\n",
       " ('chair', 1),\n",
       " ('switch', 1),\n",
       " ('mobile', 1),\n",
       " ('am', 1),\n",
       " ('charger', 1),\n",
       " ('cover', 1),\n",
       " ('amanda', 1),\n",
       " ('any', 1),\n",
       " ('alarm', 1),\n",
       " ('ant', 1)]"
      ]
     },
     "execution_count": 20,
     "metadata": {},
     "output_type": "execute_result"
    }
   ],
   "source": [
    "rdd4 = rdd2.map(lambda x: (x, 1))\n",
    "rdd4.collect()"
   ]
  },
  {
   "cell_type": "code",
   "execution_count": 21,
   "metadata": {},
   "outputs": [
    {
     "data": {
      "text/plain": [
       "[('this', 1),\n",
       " ('mango', 1),\n",
       " ('company', 1),\n",
       " ('animal', 1),\n",
       " ('cat', 1),\n",
       " ('dog', 1),\n",
       " ('ant', 2),\n",
       " ('mic', 1),\n",
       " ('laptop', 1),\n",
       " ('chair', 1),\n",
       " ('switch', 1),\n",
       " ('mobile', 1),\n",
       " ('am', 1),\n",
       " ('charger', 1),\n",
       " ('cover', 1),\n",
       " ('amanda', 1),\n",
       " ('any', 1),\n",
       " ('alarm', 1)]"
      ]
     },
     "execution_count": 21,
     "metadata": {},
     "output_type": "execute_result"
    }
   ],
   "source": [
    "rdd4.reduceByKey(lambda x, y: x + y).collect()"
   ]
  }
 ],
 "metadata": {
  "kernelspec": {
   "display_name": "pyspark",
   "language": "python",
   "name": "python3"
  },
  "language_info": {
   "codemirror_mode": {
    "name": "ipython",
    "version": 3
   },
   "file_extension": ".py",
   "mimetype": "text/x-python",
   "name": "python",
   "nbconvert_exporter": "python",
   "pygments_lexer": "ipython3",
   "version": "3.9.18"
  }
 },
 "nbformat": 4,
 "nbformat_minor": 2
}
