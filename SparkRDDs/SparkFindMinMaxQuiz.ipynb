{
 "cells": [
  {
   "cell_type": "code",
   "execution_count": 1,
   "metadata": {},
   "outputs": [],
   "source": [
    "from pyspark import SparkContext, SparkConf"
   ]
  },
  {
   "cell_type": "code",
   "execution_count": 2,
   "metadata": {},
   "outputs": [
    {
     "name": "stderr",
     "output_type": "stream",
     "text": [
      "Setting default log level to \"WARN\".\n",
      "To adjust logging level use sc.setLogLevel(newLevel). For SparkR, use setLogLevel(newLevel).\n",
      "23/11/05 15:49:26 WARN NativeCodeLoader: Unable to load native-hadoop library for your platform... using builtin-java classes where applicable\n"
     ]
    }
   ],
   "source": [
    "conf = SparkConf().setMaster(\"local\").setAppName(\"FindMinMax\")\n",
    "sc = SparkContext(conf=conf)"
   ]
  },
  {
   "cell_type": "code",
   "execution_count": 4,
   "metadata": {},
   "outputs": [
    {
     "data": {
      "text/plain": [
       "['JAN,NY,3.0',\n",
       " 'JAN,PA,1.0',\n",
       " 'JAN,NJ,2.0',\n",
       " 'JAN,CT,4.0',\n",
       " 'FEB,PA,1.0',\n",
       " 'FEB,NJ,1.0',\n",
       " 'FEB,NY,2.0',\n",
       " 'FEB,VT,1.0',\n",
       " 'MAR,NJ,2.0',\n",
       " 'MAR,NY,1.0',\n",
       " 'MAR,VT,2.0',\n",
       " 'MAR,PA,3.0']"
      ]
     },
     "execution_count": 4,
     "metadata": {},
     "output_type": "execute_result"
    }
   ],
   "source": [
    "rdd = sc.textFile(\"average_quiz_sample.csv\")\n",
    "rdd.collect()"
   ]
  },
  {
   "cell_type": "code",
   "execution_count": 5,
   "metadata": {},
   "outputs": [
    {
     "data": {
      "text/plain": [
       "[['JAN', 'NY', '3.0'],\n",
       " ['JAN', 'PA', '1.0'],\n",
       " ['JAN', 'NJ', '2.0'],\n",
       " ['JAN', 'CT', '4.0'],\n",
       " ['FEB', 'PA', '1.0'],\n",
       " ['FEB', 'NJ', '1.0'],\n",
       " ['FEB', 'NY', '2.0'],\n",
       " ['FEB', 'VT', '1.0'],\n",
       " ['MAR', 'NJ', '2.0'],\n",
       " ['MAR', 'NY', '1.0'],\n",
       " ['MAR', 'VT', '2.0'],\n",
       " ['MAR', 'PA', '3.0']]"
      ]
     },
     "execution_count": 5,
     "metadata": {},
     "output_type": "execute_result"
    }
   ],
   "source": [
    "rdd = rdd.map(lambda x: x.split(\",\"))\n",
    "rdd.collect()"
   ]
  },
  {
   "cell_type": "code",
   "execution_count": 6,
   "metadata": {},
   "outputs": [
    {
     "data": {
      "text/plain": [
       "[('NY', 3.0),\n",
       " ('PA', 1.0),\n",
       " ('NJ', 2.0),\n",
       " ('CT', 4.0),\n",
       " ('PA', 1.0),\n",
       " ('NJ', 1.0),\n",
       " ('NY', 2.0),\n",
       " ('VT', 1.0),\n",
       " ('NJ', 2.0),\n",
       " ('NY', 1.0),\n",
       " ('VT', 2.0),\n",
       " ('PA', 3.0)]"
      ]
     },
     "execution_count": 6,
     "metadata": {},
     "output_type": "execute_result"
    }
   ],
   "source": [
    "rdd = rdd.map(lambda x: (x[1], float(x[2])))\n",
    "rdd.collect()"
   ]
  },
  {
   "cell_type": "code",
   "execution_count": 7,
   "metadata": {},
   "outputs": [
    {
     "data": {
      "text/plain": [
       "[('NY', 3.0), ('PA', 3.0), ('NJ', 2.0), ('CT', 4.0), ('VT', 2.0)]"
      ]
     },
     "execution_count": 7,
     "metadata": {},
     "output_type": "execute_result"
    }
   ],
   "source": [
    "rdd.reduceByKey(lambda x, y: x if x > y else y).collect()"
   ]
  },
  {
   "cell_type": "code",
   "execution_count": 8,
   "metadata": {},
   "outputs": [
    {
     "data": {
      "text/plain": [
       "[('NY', 1.0), ('PA', 1.0), ('NJ', 1.0), ('CT', 4.0), ('VT', 1.0)]"
      ]
     },
     "execution_count": 8,
     "metadata": {},
     "output_type": "execute_result"
    }
   ],
   "source": [
    "rdd.reduceByKey(lambda x, y: x if x < y else y).collect()"
   ]
  }
 ],
 "metadata": {
  "kernelspec": {
   "display_name": "pyspark",
   "language": "python",
   "name": "python3"
  },
  "language_info": {
   "codemirror_mode": {
    "name": "ipython",
    "version": 3
   },
   "file_extension": ".py",
   "mimetype": "text/x-python",
   "name": "python",
   "nbconvert_exporter": "python",
   "pygments_lexer": "ipython3",
   "version": "3.9.18"
  }
 },
 "nbformat": 4,
 "nbformat_minor": 2
}
