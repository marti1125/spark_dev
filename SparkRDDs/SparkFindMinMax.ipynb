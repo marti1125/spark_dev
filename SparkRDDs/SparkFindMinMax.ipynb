{
 "cells": [
  {
   "cell_type": "code",
   "execution_count": 1,
   "metadata": {},
   "outputs": [],
   "source": [
    "from pyspark import SparkContext, SparkConf"
   ]
  },
  {
   "cell_type": "code",
   "execution_count": 2,
   "metadata": {},
   "outputs": [
    {
     "name": "stderr",
     "output_type": "stream",
     "text": [
      "Setting default log level to \"WARN\".\n",
      "To adjust logging level use sc.setLogLevel(newLevel). For SparkR, use setLogLevel(newLevel).\n",
      "23/11/05 15:34:12 WARN NativeCodeLoader: Unable to load native-hadoop library for your platform... using builtin-java classes where applicable\n"
     ]
    }
   ],
   "source": [
    "conf = SparkConf().setAppName(\"SparkFindMinMax\")\n",
    "sc = SparkContext(conf=conf)"
   ]
  },
  {
   "cell_type": "code",
   "execution_count": 3,
   "metadata": {},
   "outputs": [
    {
     "data": {
      "text/plain": [
       "['the shawshank redemtion, 3',\n",
       " 'the matrix, 5',\n",
       " '12 angry men, 3',\n",
       " '12 angry men, 4',\n",
       " 'the matrix, 5',\n",
       " 'pulp fiction, 4',\n",
       " 'the godfather, 5',\n",
       " 'the shawshank redemtion, 2',\n",
       " 'pulp fiction, 4',\n",
       " 'the godfather, 5',\n",
       " '12 angry men, 2',\n",
       " 'the godfather, 3',\n",
       " 'pulp fiction, 4',\n",
       " '12 angry men, 1',\n",
       " 'the shawshank redemtion, 2',\n",
       " '12 angry men, 1',\n",
       " 'the shawshank redemtion, 5',\n",
       " 'pulp fiction, 5',\n",
       " 'pulp fiction, 2',\n",
       " '12 angry men, 4']"
      ]
     },
     "execution_count": 3,
     "metadata": {},
     "output_type": "execute_result"
    }
   ],
   "source": [
    "rdd = sc.textFile(\"movie_ratings.csv\")\n",
    "rdd.collect()"
   ]
  },
  {
   "cell_type": "code",
   "execution_count": 5,
   "metadata": {},
   "outputs": [
    {
     "data": {
      "text/plain": [
       "[('the shawshank redemtion', 3),\n",
       " ('the matrix', 5),\n",
       " ('12 angry men', 3),\n",
       " ('12 angry men', 4),\n",
       " ('the matrix', 5),\n",
       " ('pulp fiction', 4),\n",
       " ('the godfather', 5),\n",
       " ('the shawshank redemtion', 2),\n",
       " ('pulp fiction', 4),\n",
       " ('the godfather', 5),\n",
       " ('12 angry men', 2),\n",
       " ('the godfather', 3),\n",
       " ('pulp fiction', 4),\n",
       " ('12 angry men', 1),\n",
       " ('the shawshank redemtion', 2),\n",
       " ('12 angry men', 1),\n",
       " ('the shawshank redemtion', 5),\n",
       " ('pulp fiction', 5),\n",
       " ('pulp fiction', 2),\n",
       " ('12 angry men', 4)]"
      ]
     },
     "execution_count": 5,
     "metadata": {},
     "output_type": "execute_result"
    }
   ],
   "source": [
    "rdd2 = rdd.map(lambda x: (x.split(\",\")[0], int(x.split(\",\")[1])))\n",
    "rdd2.collect()"
   ]
  },
  {
   "cell_type": "code",
   "execution_count": 7,
   "metadata": {},
   "outputs": [
    {
     "data": {
      "text/plain": [
       "[('the shawshank redemtion', 2),\n",
       " ('the matrix', 5),\n",
       " ('12 angry men', 1),\n",
       " ('pulp fiction', 2),\n",
       " ('the godfather', 3)]"
      ]
     },
     "execution_count": 7,
     "metadata": {},
     "output_type": "execute_result"
    }
   ],
   "source": [
    "rdd2.reduceByKey(lambda x, y: x if x < y else y).collect()"
   ]
  },
  {
   "cell_type": "code",
   "execution_count": 8,
   "metadata": {},
   "outputs": [
    {
     "data": {
      "text/plain": [
       "[('the shawshank redemtion', 5),\n",
       " ('the matrix', 5),\n",
       " ('12 angry men', 4),\n",
       " ('pulp fiction', 5),\n",
       " ('the godfather', 5)]"
      ]
     },
     "execution_count": 8,
     "metadata": {},
     "output_type": "execute_result"
    }
   ],
   "source": [
    "rdd2.reduceByKey(lambda x, y: x if x > y else y).collect()"
   ]
  }
 ],
 "metadata": {
  "kernelspec": {
   "display_name": "pyspark",
   "language": "python",
   "name": "python3"
  },
  "language_info": {
   "codemirror_mode": {
    "name": "ipython",
    "version": 3
   },
   "file_extension": ".py",
   "mimetype": "text/x-python",
   "name": "python",
   "nbconvert_exporter": "python",
   "pygments_lexer": "ipython3",
   "version": "3.9.18"
  }
 },
 "nbformat": 4,
 "nbformat_minor": 2
}
