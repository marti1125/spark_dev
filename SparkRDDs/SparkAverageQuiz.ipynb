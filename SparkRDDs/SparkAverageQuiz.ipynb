{
 "cells": [
  {
   "cell_type": "code",
   "execution_count": 1,
   "metadata": {},
   "outputs": [],
   "source": [
    "from pyspark import SparkConf, SparkContext"
   ]
  },
  {
   "cell_type": "code",
   "execution_count": 2,
   "metadata": {},
   "outputs": [
    {
     "name": "stderr",
     "output_type": "stream",
     "text": [
      "Setting default log level to \"WARN\".\n",
      "To adjust logging level use sc.setLogLevel(newLevel). For SparkR, use setLogLevel(newLevel).\n",
      "23/11/05 15:12:24 WARN NativeCodeLoader: Unable to load native-hadoop library for your platform... using builtin-java classes where applicable\n"
     ]
    }
   ],
   "source": [
    "conf = SparkConf().setMaster(\"local\").setAppName(\"SparkAverageQuiz\")\n",
    "sc = SparkContext(conf=conf)"
   ]
  },
  {
   "cell_type": "code",
   "execution_count": 3,
   "metadata": {},
   "outputs": [],
   "source": [
    "rdd = sc.textFile(\"average_quiz_sample.csv\")"
   ]
  },
  {
   "cell_type": "code",
   "execution_count": 4,
   "metadata": {},
   "outputs": [
    {
     "data": {
      "text/plain": [
       "['JAN, NY, 3.0',\n",
       " 'JAN, PA, 1.0',\n",
       " 'JAN, NJ, 2.0',\n",
       " 'JAN, CT, 4.0',\n",
       " 'FEB, PA, 1.0',\n",
       " 'FEB, NJ, 1.0',\n",
       " 'FEB, NY, 2.0',\n",
       " 'FEB, VT, 1.0',\n",
       " 'MAR, NJ, 2.0',\n",
       " 'MAR, NY, 1.0',\n",
       " 'MAR, VT, 2.0',\n",
       " 'MAR, PA, 3.0']"
      ]
     },
     "execution_count": 4,
     "metadata": {},
     "output_type": "execute_result"
    }
   ],
   "source": [
    "rdd.collect()"
   ]
  },
  {
   "cell_type": "code",
   "execution_count": 7,
   "metadata": {},
   "outputs": [
    {
     "data": {
      "text/plain": [
       "[('JAN', (3.0, 1)),\n",
       " ('JAN', (1.0, 1)),\n",
       " ('JAN', (2.0, 1)),\n",
       " ('JAN', (4.0, 1)),\n",
       " ('FEB', (1.0, 1)),\n",
       " ('FEB', (1.0, 1)),\n",
       " ('FEB', (2.0, 1)),\n",
       " ('FEB', (1.0, 1)),\n",
       " ('MAR', (2.0, 1)),\n",
       " ('MAR', (1.0, 1)),\n",
       " ('MAR', (2.0, 1)),\n",
       " ('MAR', (3.0, 1))]"
      ]
     },
     "execution_count": 7,
     "metadata": {},
     "output_type": "execute_result"
    }
   ],
   "source": [
    "rdd2 = rdd.map(lambda x: (x.split(\",\")[0], (float(x.split(\",\")[2]), 1)))\n",
    "rdd2.collect()"
   ]
  },
  {
   "cell_type": "code",
   "execution_count": 9,
   "metadata": {},
   "outputs": [
    {
     "data": {
      "text/plain": [
       "[('JAN', (10.0, 4)), ('FEB', (5.0, 4)), ('MAR', (8.0, 4))]"
      ]
     },
     "execution_count": 9,
     "metadata": {},
     "output_type": "execute_result"
    }
   ],
   "source": [
    "rdd3 = rdd2.reduceByKey(lambda x, y: (x[0] + y[0], x[1] + y[1]))\n",
    "rdd3.collect()"
   ]
  },
  {
   "cell_type": "code",
   "execution_count": 11,
   "metadata": {},
   "outputs": [
    {
     "data": {
      "text/plain": [
       "[('JAN', 2.5), ('FEB', 1.25), ('MAR', 2.0)]"
      ]
     },
     "execution_count": 11,
     "metadata": {},
     "output_type": "execute_result"
    }
   ],
   "source": [
    "rdd4 = rdd3.map(lambda x: (x[0], x[1][0] / x[1][1]))\n",
    "rdd4.collect()"
   ]
  }
 ],
 "metadata": {
  "kernelspec": {
   "display_name": "pyspark",
   "language": "python",
   "name": "python3"
  },
  "language_info": {
   "codemirror_mode": {
    "name": "ipython",
    "version": 3
   },
   "file_extension": ".py",
   "mimetype": "text/x-python",
   "name": "python",
   "nbconvert_exporter": "python",
   "pygments_lexer": "ipython3",
   "version": "3.9.18"
  }
 },
 "nbformat": 4,
 "nbformat_minor": 2
}
