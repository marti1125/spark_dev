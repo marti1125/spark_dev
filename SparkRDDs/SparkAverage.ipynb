{
 "cells": [
  {
   "cell_type": "code",
   "execution_count": 1,
   "metadata": {},
   "outputs": [],
   "source": [
    "from pyspark import SparkConf, SparkContext"
   ]
  },
  {
   "cell_type": "code",
   "execution_count": 2,
   "metadata": {},
   "outputs": [
    {
     "name": "stderr",
     "output_type": "stream",
     "text": [
      "Setting default log level to \"WARN\".\n",
      "To adjust logging level use sc.setLogLevel(newLevel). For SparkR, use setLogLevel(newLevel).\n",
      "23/11/04 18:15:35 WARN NativeCodeLoader: Unable to load native-hadoop library for your platform... using builtin-java classes where applicable\n"
     ]
    }
   ],
   "source": [
    "conf = SparkConf().setMaster(\"local\").setAppName(\"SparkAverage\")\n",
    "sc = SparkContext(conf = conf)"
   ]
  },
  {
   "cell_type": "code",
   "execution_count": 4,
   "metadata": {},
   "outputs": [
    {
     "data": {
      "text/plain": [
       "['the shawshank redemtion, 3',\n",
       " 'the matrix, 5',\n",
       " '12 angry men, 3',\n",
       " '12 angry men, 4',\n",
       " 'the matrix, 5',\n",
       " 'pulp fiction, 4',\n",
       " 'the godfather, 5',\n",
       " 'the shawshank redemtion, 2',\n",
       " 'pulp fiction, 4',\n",
       " 'the godfather, 5',\n",
       " '12 angry men, 2',\n",
       " 'the godfather, 3',\n",
       " 'pulp fiction, 4',\n",
       " '12 angry men, 1',\n",
       " 'the shawshank redemtion, 2',\n",
       " '12 angry men, 1',\n",
       " 'the shawshank redemtion, 5',\n",
       " 'pulp fiction, 5',\n",
       " 'pulp fiction, 2',\n",
       " '12 angry men, 4']"
      ]
     },
     "execution_count": 4,
     "metadata": {},
     "output_type": "execute_result"
    }
   ],
   "source": [
    "rdd = sc.textFile(\"movie_ratings.csv\")\n",
    "rdd.collect()"
   ]
  },
  {
   "cell_type": "code",
   "execution_count": 10,
   "metadata": {},
   "outputs": [
    {
     "data": {
      "text/plain": [
       "[('the shawshank redemtion', (3, 1)),\n",
       " ('the matrix', (5, 1)),\n",
       " ('12 angry men', (3, 1)),\n",
       " ('12 angry men', (4, 1)),\n",
       " ('the matrix', (5, 1)),\n",
       " ('pulp fiction', (4, 1)),\n",
       " ('the godfather', (5, 1)),\n",
       " ('the shawshank redemtion', (2, 1)),\n",
       " ('pulp fiction', (4, 1)),\n",
       " ('the godfather', (5, 1)),\n",
       " ('12 angry men', (2, 1)),\n",
       " ('the godfather', (3, 1)),\n",
       " ('pulp fiction', (4, 1)),\n",
       " ('12 angry men', (1, 1)),\n",
       " ('the shawshank redemtion', (2, 1)),\n",
       " ('12 angry men', (1, 1)),\n",
       " ('the shawshank redemtion', (5, 1)),\n",
       " ('pulp fiction', (5, 1)),\n",
       " ('pulp fiction', (2, 1)),\n",
       " ('12 angry men', (4, 1))]"
      ]
     },
     "execution_count": 10,
     "metadata": {},
     "output_type": "execute_result"
    }
   ],
   "source": [
    "rdd2 = rdd.map(lambda x: (x.split(\",\")[0], (int(x.split(\",\")[1]), 1)))\n",
    "rdd2.collect()"
   ]
  },
  {
   "cell_type": "code",
   "execution_count": 11,
   "metadata": {},
   "outputs": [
    {
     "data": {
      "text/plain": [
       "[('the shawshank redemtion', (12, 4)),\n",
       " ('the matrix', (10, 2)),\n",
       " ('12 angry men', (15, 6)),\n",
       " ('pulp fiction', (19, 5)),\n",
       " ('the godfather', (13, 3))]"
      ]
     },
     "execution_count": 11,
     "metadata": {},
     "output_type": "execute_result"
    }
   ],
   "source": [
    "rdd3 = rdd2.reduceByKey(lambda x, y: (x[0] + y[0], x[1] + y[1]))\n",
    "rdd3.collect()"
   ]
  },
  {
   "cell_type": "code",
   "execution_count": 12,
   "metadata": {},
   "outputs": [
    {
     "data": {
      "text/plain": [
       "[('the shawshank redemtion', 3.0),\n",
       " ('the matrix', 5.0),\n",
       " ('12 angry men', 2.5),\n",
       " ('pulp fiction', 3.8),\n",
       " ('the godfather', 4.333333333333333)]"
      ]
     },
     "execution_count": 12,
     "metadata": {},
     "output_type": "execute_result"
    }
   ],
   "source": [
    "rdd4 = rdd3.map(lambda x: (x[0], x[1][0] / x[1][1]))\n",
    "rdd4.collect()"
   ]
  }
 ],
 "metadata": {
  "kernelspec": {
   "display_name": "pyspark",
   "language": "python",
   "name": "python3"
  },
  "language_info": {
   "codemirror_mode": {
    "name": "ipython",
    "version": 3
   },
   "file_extension": ".py",
   "mimetype": "text/x-python",
   "name": "python",
   "nbconvert_exporter": "python",
   "pygments_lexer": "ipython3",
   "version": "3.9.18"
  }
 },
 "nbformat": 4,
 "nbformat_minor": 2
}
