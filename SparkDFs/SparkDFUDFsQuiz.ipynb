{
 "cells": [
  {
   "cell_type": "code",
   "execution_count": 5,
   "metadata": {},
   "outputs": [],
   "source": [
    "from pyspark.sql import SparkSession\n",
    "from pyspark.sql.functions import udf, lit, col\n",
    "from pyspark.sql.types import DoubleType\n",
    "spark = SparkSession.builder.appName(\"SparkDFUDFs\").getOrCreate()"
   ]
  },
  {
   "cell_type": "code",
   "execution_count": 6,
   "metadata": {},
   "outputs": [
    {
     "name": "stdout",
     "output_type": "stream",
     "text": [
      "+-------------+----------+-----+------+---+-----+\n",
      "|employee_name|department|state|salary|age|bonus|\n",
      "+-------------+----------+-----+------+---+-----+\n",
      "|        James|     Sales|   NY| 90000| 34|10000|\n",
      "|      Michael|     Sales|   NY| 86000| 56|20000|\n",
      "|       Robert|     Sales|   CA| 81000| 30|23000|\n",
      "|        Maria|   Finance|   CA| 90000| 24|23000|\n",
      "|        Raman|   Finance|   CA| 99000| 40|24000|\n",
      "|        Scott|   Finance|   NY| 83000| 36|19000|\n",
      "|          Jen|   Finance|   NY| 79000| 53|15000|\n",
      "|         Jeff| Marketing|   CA| 80000| 25|18000|\n",
      "|        Kumar| Marketing|   NY| 91000| 50|21000|\n",
      "+-------------+----------+-----+------+---+-----+\n",
      "\n"
     ]
    }
   ],
   "source": [
    "df = spark.read.options(header=\"True\", inferSchema=\"True\").csv(\"OfficeData.csv\")\n",
    "df.show()"
   ]
  },
  {
   "cell_type": "code",
   "execution_count": 7,
   "metadata": {},
   "outputs": [],
   "source": [
    "def get_incr(state, salary, bonus):\n",
    "    if state == \"NY\":\n",
    "        sum = salary * 0.10\n",
    "        sum += bonus * 0.05\n",
    "    elif state == \"CA\":\n",
    "        sum = salary * 0.12\n",
    "        sum += bonus * 0.03\n",
    "    return sum"
   ]
  },
  {
   "cell_type": "code",
   "execution_count": 8,
   "metadata": {},
   "outputs": [],
   "source": [
    "incrUDF = udf(lambda x, y, z: get_incr(x, y, z), DoubleType())"
   ]
  },
  {
   "cell_type": "code",
   "execution_count": 18,
   "metadata": {},
   "outputs": [],
   "source": [
    "df = df.withColumn(\"Increment\", incrUDF(col(\"State\"), col(\"Salary\"), col(\"Bonus\")))"
   ]
  },
  {
   "cell_type": "code",
   "execution_count": 19,
   "metadata": {},
   "outputs": [
    {
     "data": {
      "text/plain": [
       "DataFrame[employee_name: string, department: string, state: string, salary: int, age: int, bonus: int, Increment: double]"
      ]
     },
     "execution_count": 19,
     "metadata": {},
     "output_type": "execute_result"
    }
   ],
   "source": [
    "df.cache()"
   ]
  },
  {
   "cell_type": "code",
   "execution_count": 22,
   "metadata": {},
   "outputs": [
    {
     "name": "stdout",
     "output_type": "stream",
     "text": [
      "+-------------+----------+-----+------+---+-----+---------+\n",
      "|employee_name|department|state|salary|age|bonus|Increment|\n",
      "+-------------+----------+-----+------+---+-----+---------+\n",
      "|        James|     Sales|   NY| 90000| 34|10000|   9500.0|\n",
      "|      Michael|     Sales|   NY| 86000| 56|20000|   9600.0|\n",
      "|       Robert|     Sales|   CA| 81000| 30|23000|  10410.0|\n",
      "|        Maria|   Finance|   CA| 90000| 24|23000|  11490.0|\n",
      "|        Raman|   Finance|   CA| 99000| 40|24000|  12600.0|\n",
      "|        Scott|   Finance|   NY| 83000| 36|19000|   9250.0|\n",
      "|          Jen|   Finance|   NY| 79000| 53|15000|   8650.0|\n",
      "|         Jeff| Marketing|   CA| 80000| 25|18000|  10140.0|\n",
      "|        Kumar| Marketing|   NY| 91000| 50|21000|  10150.0|\n",
      "+-------------+----------+-----+------+---+-----+---------+\n",
      "\n"
     ]
    }
   ],
   "source": [
    "df.show()"
   ]
  },
  {
   "cell_type": "code",
   "execution_count": null,
   "metadata": {},
   "outputs": [],
   "source": [
    "spark.stop()"
   ]
  }
 ],
 "metadata": {
  "kernelspec": {
   "display_name": "pyspark",
   "language": "python",
   "name": "python3"
  },
  "language_info": {
   "codemirror_mode": {
    "name": "ipython",
    "version": 3
   },
   "file_extension": ".py",
   "mimetype": "text/x-python",
   "name": "python",
   "nbconvert_exporter": "python",
   "pygments_lexer": "ipython3",
   "version": "3.9.18"
  }
 },
 "nbformat": 4,
 "nbformat_minor": 2
}
