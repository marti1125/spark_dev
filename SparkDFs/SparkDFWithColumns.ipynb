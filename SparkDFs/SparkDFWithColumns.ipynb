{
 "cells": [
  {
   "cell_type": "code",
   "execution_count": 1,
   "metadata": {},
   "outputs": [
    {
     "name": "stderr",
     "output_type": "stream",
     "text": [
      "Setting default log level to \"WARN\".\n",
      "To adjust logging level use sc.setLogLevel(newLevel). For SparkR, use setLogLevel(newLevel).\n",
      "23/11/09 16:01:04 WARN NativeCodeLoader: Unable to load native-hadoop library for your platform... using builtin-java classes where applicable\n",
      "23/11/09 16:01:05 WARN Utils: Service 'SparkUI' could not bind on port 4040. Attempting port 4041.\n"
     ]
    }
   ],
   "source": [
    "from pyspark.sql import SparkSession\n",
    "spark = SparkSession.builder.appName('SparkDFWithColumns').getOrCreate()"
   ]
  },
  {
   "cell_type": "code",
   "execution_count": 2,
   "metadata": {},
   "outputs": [],
   "source": [
    "df = spark.read.options(header=\"True\", inferSchema=\"True\").csv(\"StudentData.csv\")"
   ]
  },
  {
   "cell_type": "code",
   "execution_count": 3,
   "metadata": {},
   "outputs": [
    {
     "name": "stdout",
     "output_type": "stream",
     "text": [
      "+---+------+----------------+------+------+-----+--------------------+\n",
      "|age|gender|            name|course|  roll|marks|               email|\n",
      "+---+------+----------------+------+------+-----+--------------------+\n",
      "| 28|Female| Hubert Oliveras|    DB|  2984|   59|Annika Hoffman_Na...|\n",
      "| 29|Female|Toshiko Hillyard| Cloud| 12899|   62|Margene Moores_Ma...|\n",
      "| 28|  Male|  Celeste Lollis|    PF| 21267|   45|Jeannetta Golden_...|\n",
      "| 29|Female|    Elenore Choy|    DB| 32877|   29|Billi Clore_Mitzi...|\n",
      "| 28|  Male|  Sheryll Towler|   DSA| 41487|   41|Claude Panos_Judi...|\n",
      "| 28|  Male|  Margene Moores|   MVC| 52771|   32|Toshiko Hillyard_...|\n",
      "| 28|  Male|     Neda Briski|   OOP| 61973|   69|Alberta Freund_El...|\n",
      "| 28|Female|    Claude Panos| Cloud| 72409|   85|Sheryll Towler_Al...|\n",
      "| 28|  Male|  Celeste Lollis|   MVC| 81492|   64|Nicole Harwood_Cl...|\n",
      "| 29|  Male|  Cordie Harnois|   OOP| 92882|   51|Judie Chipps_Clem...|\n",
      "| 29|Female|       Kena Wild|   DSA|102285|   35|Dustin Feagins_Ma...|\n",
      "| 29|  Male| Ernest Rossbach|    DB|111449|   53|Maybell Duguay_Ab...|\n",
      "| 28|Female|  Latia Vanhoose|    DB|122502|   27|Latia Vanhoose_Mi...|\n",
      "| 29|Female|  Latia Vanhoose|   MVC|132110|   55|Eda Neathery_Nico...|\n",
      "| 29|  Male|     Neda Briski|    PF|141770|   42|Margene Moores_Mi...|\n",
      "| 29|Female|  Latia Vanhoose|    DB|152159|   27|Claude Panos_Sant...|\n",
      "| 29|  Male|  Loris Crossett|   MVC|161771|   36|Mitzi Seldon_Jenn...|\n",
      "| 29|  Male|  Annika Hoffman|   OOP|171660|   22|Taryn Brownlee_Mi...|\n",
      "| 29|  Male|   Santa Kerfien|    PF|182129|   56|Judie Chipps_Tary...|\n",
      "| 28|Female|Mickey Cortright|    DB|192537|   62|Ernest Rossbach_M...|\n",
      "+---+------+----------------+------+------+-----+--------------------+\n",
      "only showing top 20 rows\n",
      "\n"
     ]
    }
   ],
   "source": [
    "df.show()"
   ]
  },
  {
   "cell_type": "code",
   "execution_count": 4,
   "metadata": {},
   "outputs": [
    {
     "name": "stdout",
     "output_type": "stream",
     "text": [
      "root\n",
      " |-- age: integer (nullable = true)\n",
      " |-- gender: string (nullable = true)\n",
      " |-- name: string (nullable = true)\n",
      " |-- course: string (nullable = true)\n",
      " |-- roll: integer (nullable = true)\n",
      " |-- marks: integer (nullable = true)\n",
      " |-- email: string (nullable = true)\n",
      "\n"
     ]
    }
   ],
   "source": [
    "df.printSchema()"
   ]
  },
  {
   "cell_type": "code",
   "execution_count": 13,
   "metadata": {},
   "outputs": [],
   "source": [
    "from pyspark.sql.functions import col, lit"
   ]
  },
  {
   "cell_type": "code",
   "execution_count": 10,
   "metadata": {},
   "outputs": [
    {
     "name": "stdout",
     "output_type": "stream",
     "text": [
      "root\n",
      " |-- age: integer (nullable = true)\n",
      " |-- gender: string (nullable = true)\n",
      " |-- name: string (nullable = true)\n",
      " |-- course: string (nullable = true)\n",
      " |-- roll: string (nullable = true)\n",
      " |-- marks: integer (nullable = true)\n",
      " |-- email: string (nullable = true)\n",
      "\n"
     ]
    }
   ],
   "source": [
    "df2 = df.withColumn(\"roll\", col(\"roll\").cast(\"String\"))\n",
    "df2.printSchema()"
   ]
  },
  {
   "cell_type": "code",
   "execution_count": 11,
   "metadata": {},
   "outputs": [
    {
     "name": "stdout",
     "output_type": "stream",
     "text": [
      "+---+------+----------------+------+------+-----+--------------------+\n",
      "|age|gender|            name|course|  roll|marks|               email|\n",
      "+---+------+----------------+------+------+-----+--------------------+\n",
      "| 28|Female| Hubert Oliveras|    DB|  2984|   69|Annika Hoffman_Na...|\n",
      "| 29|Female|Toshiko Hillyard| Cloud| 12899|   72|Margene Moores_Ma...|\n",
      "| 28|  Male|  Celeste Lollis|    PF| 21267|   55|Jeannetta Golden_...|\n",
      "| 29|Female|    Elenore Choy|    DB| 32877|   39|Billi Clore_Mitzi...|\n",
      "| 28|  Male|  Sheryll Towler|   DSA| 41487|   51|Claude Panos_Judi...|\n",
      "| 28|  Male|  Margene Moores|   MVC| 52771|   42|Toshiko Hillyard_...|\n",
      "| 28|  Male|     Neda Briski|   OOP| 61973|   79|Alberta Freund_El...|\n",
      "| 28|Female|    Claude Panos| Cloud| 72409|   95|Sheryll Towler_Al...|\n",
      "| 28|  Male|  Celeste Lollis|   MVC| 81492|   74|Nicole Harwood_Cl...|\n",
      "| 29|  Male|  Cordie Harnois|   OOP| 92882|   61|Judie Chipps_Clem...|\n",
      "| 29|Female|       Kena Wild|   DSA|102285|   45|Dustin Feagins_Ma...|\n",
      "| 29|  Male| Ernest Rossbach|    DB|111449|   63|Maybell Duguay_Ab...|\n",
      "| 28|Female|  Latia Vanhoose|    DB|122502|   37|Latia Vanhoose_Mi...|\n",
      "| 29|Female|  Latia Vanhoose|   MVC|132110|   65|Eda Neathery_Nico...|\n",
      "| 29|  Male|     Neda Briski|    PF|141770|   52|Margene Moores_Mi...|\n",
      "| 29|Female|  Latia Vanhoose|    DB|152159|   37|Claude Panos_Sant...|\n",
      "| 29|  Male|  Loris Crossett|   MVC|161771|   46|Mitzi Seldon_Jenn...|\n",
      "| 29|  Male|  Annika Hoffman|   OOP|171660|   32|Taryn Brownlee_Mi...|\n",
      "| 29|  Male|   Santa Kerfien|    PF|182129|   66|Judie Chipps_Tary...|\n",
      "| 28|Female|Mickey Cortright|    DB|192537|   72|Ernest Rossbach_M...|\n",
      "+---+------+----------------+------+------+-----+--------------------+\n",
      "only showing top 20 rows\n",
      "\n"
     ]
    }
   ],
   "source": [
    "df2 = df2.withColumn(\"marks\", col(\"marks\") + 10)\n",
    "df2.show()"
   ]
  },
  {
   "cell_type": "code",
   "execution_count": 12,
   "metadata": {},
   "outputs": [
    {
     "name": "stdout",
     "output_type": "stream",
     "text": [
      "+---+------+----------------+------+------+-----+--------------------+----------------+\n",
      "|age|gender|            name|course|  roll|marks|               email|aggregated marks|\n",
      "+---+------+----------------+------+------+-----+--------------------+----------------+\n",
      "| 28|Female| Hubert Oliveras|    DB|  2984|   69|Annika Hoffman_Na...|              79|\n",
      "| 29|Female|Toshiko Hillyard| Cloud| 12899|   72|Margene Moores_Ma...|              82|\n",
      "| 28|  Male|  Celeste Lollis|    PF| 21267|   55|Jeannetta Golden_...|              65|\n",
      "| 29|Female|    Elenore Choy|    DB| 32877|   39|Billi Clore_Mitzi...|              49|\n",
      "| 28|  Male|  Sheryll Towler|   DSA| 41487|   51|Claude Panos_Judi...|              61|\n",
      "| 28|  Male|  Margene Moores|   MVC| 52771|   42|Toshiko Hillyard_...|              52|\n",
      "| 28|  Male|     Neda Briski|   OOP| 61973|   79|Alberta Freund_El...|              89|\n",
      "| 28|Female|    Claude Panos| Cloud| 72409|   95|Sheryll Towler_Al...|             105|\n",
      "| 28|  Male|  Celeste Lollis|   MVC| 81492|   74|Nicole Harwood_Cl...|              84|\n",
      "| 29|  Male|  Cordie Harnois|   OOP| 92882|   61|Judie Chipps_Clem...|              71|\n",
      "| 29|Female|       Kena Wild|   DSA|102285|   45|Dustin Feagins_Ma...|              55|\n",
      "| 29|  Male| Ernest Rossbach|    DB|111449|   63|Maybell Duguay_Ab...|              73|\n",
      "| 28|Female|  Latia Vanhoose|    DB|122502|   37|Latia Vanhoose_Mi...|              47|\n",
      "| 29|Female|  Latia Vanhoose|   MVC|132110|   65|Eda Neathery_Nico...|              75|\n",
      "| 29|  Male|     Neda Briski|    PF|141770|   52|Margene Moores_Mi...|              62|\n",
      "| 29|Female|  Latia Vanhoose|    DB|152159|   37|Claude Panos_Sant...|              47|\n",
      "| 29|  Male|  Loris Crossett|   MVC|161771|   46|Mitzi Seldon_Jenn...|              56|\n",
      "| 29|  Male|  Annika Hoffman|   OOP|171660|   32|Taryn Brownlee_Mi...|              42|\n",
      "| 29|  Male|   Santa Kerfien|    PF|182129|   66|Judie Chipps_Tary...|              76|\n",
      "| 28|Female|Mickey Cortright|    DB|192537|   72|Ernest Rossbach_M...|              82|\n",
      "+---+------+----------------+------+------+-----+--------------------+----------------+\n",
      "only showing top 20 rows\n",
      "\n"
     ]
    }
   ],
   "source": [
    "df2 = df2.withColumn(\"aggregated marks\", col(\"marks\") + 10)\n",
    "df2.show()"
   ]
  },
  {
   "cell_type": "code",
   "execution_count": 14,
   "metadata": {},
   "outputs": [
    {
     "name": "stdout",
     "output_type": "stream",
     "text": [
      "+---+------+----------------+------+------+-----+--------------------+----------------+-------+\n",
      "|age|gender|            name|course|  roll|marks|               email|aggregated marks|country|\n",
      "+---+------+----------------+------+------+-----+--------------------+----------------+-------+\n",
      "| 28|Female| Hubert Oliveras|    DB|  2984|   69|Annika Hoffman_Na...|              79|    USA|\n",
      "| 29|Female|Toshiko Hillyard| Cloud| 12899|   72|Margene Moores_Ma...|              82|    USA|\n",
      "| 28|  Male|  Celeste Lollis|    PF| 21267|   55|Jeannetta Golden_...|              65|    USA|\n",
      "| 29|Female|    Elenore Choy|    DB| 32877|   39|Billi Clore_Mitzi...|              49|    USA|\n",
      "| 28|  Male|  Sheryll Towler|   DSA| 41487|   51|Claude Panos_Judi...|              61|    USA|\n",
      "| 28|  Male|  Margene Moores|   MVC| 52771|   42|Toshiko Hillyard_...|              52|    USA|\n",
      "| 28|  Male|     Neda Briski|   OOP| 61973|   79|Alberta Freund_El...|              89|    USA|\n",
      "| 28|Female|    Claude Panos| Cloud| 72409|   95|Sheryll Towler_Al...|             105|    USA|\n",
      "| 28|  Male|  Celeste Lollis|   MVC| 81492|   74|Nicole Harwood_Cl...|              84|    USA|\n",
      "| 29|  Male|  Cordie Harnois|   OOP| 92882|   61|Judie Chipps_Clem...|              71|    USA|\n",
      "| 29|Female|       Kena Wild|   DSA|102285|   45|Dustin Feagins_Ma...|              55|    USA|\n",
      "| 29|  Male| Ernest Rossbach|    DB|111449|   63|Maybell Duguay_Ab...|              73|    USA|\n",
      "| 28|Female|  Latia Vanhoose|    DB|122502|   37|Latia Vanhoose_Mi...|              47|    USA|\n",
      "| 29|Female|  Latia Vanhoose|   MVC|132110|   65|Eda Neathery_Nico...|              75|    USA|\n",
      "| 29|  Male|     Neda Briski|    PF|141770|   52|Margene Moores_Mi...|              62|    USA|\n",
      "| 29|Female|  Latia Vanhoose|    DB|152159|   37|Claude Panos_Sant...|              47|    USA|\n",
      "| 29|  Male|  Loris Crossett|   MVC|161771|   46|Mitzi Seldon_Jenn...|              56|    USA|\n",
      "| 29|  Male|  Annika Hoffman|   OOP|171660|   32|Taryn Brownlee_Mi...|              42|    USA|\n",
      "| 29|  Male|   Santa Kerfien|    PF|182129|   66|Judie Chipps_Tary...|              76|    USA|\n",
      "| 28|Female|Mickey Cortright|    DB|192537|   72|Ernest Rossbach_M...|              82|    USA|\n",
      "+---+------+----------------+------+------+-----+--------------------+----------------+-------+\n",
      "only showing top 20 rows\n",
      "\n"
     ]
    }
   ],
   "source": [
    "df2 = df2.withColumn(\"country\", lit(\"USA\"))\n",
    "df2.show()"
   ]
  }
 ],
 "metadata": {
  "kernelspec": {
   "display_name": "pyspark",
   "language": "python",
   "name": "python3"
  },
  "language_info": {
   "codemirror_mode": {
    "name": "ipython",
    "version": 3
   },
   "file_extension": ".py",
   "mimetype": "text/x-python",
   "name": "python",
   "nbconvert_exporter": "python",
   "pygments_lexer": "ipython3",
   "version": "3.9.18"
  }
 },
 "nbformat": 4,
 "nbformat_minor": 2
}
