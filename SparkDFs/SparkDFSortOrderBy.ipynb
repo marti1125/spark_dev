{
 "cells": [
  {
   "cell_type": "code",
   "execution_count": 1,
   "metadata": {},
   "outputs": [
    {
     "name": "stderr",
     "output_type": "stream",
     "text": [
      "23/11/13 15:03:53 WARN Utils: Your hostname, Willys-MacBook-Pro.local resolves to a loopback address: 127.0.0.1; using 192.168.31.230 instead (on interface en0)\n",
      "23/11/13 15:03:53 WARN Utils: Set SPARK_LOCAL_IP if you need to bind to another address\n",
      "Setting default log level to \"WARN\".\n",
      "To adjust logging level use sc.setLogLevel(newLevel). For SparkR, use setLogLevel(newLevel).\n",
      "23/11/13 15:03:53 WARN NativeCodeLoader: Unable to load native-hadoop library for your platform... using builtin-java classes where applicable\n"
     ]
    }
   ],
   "source": [
    "from pyspark.sql import SparkSession\n",
    "spark = SparkSession.builder.appName('SparkByExamples.com').getOrCreate()"
   ]
  },
  {
   "cell_type": "code",
   "execution_count": 2,
   "metadata": {},
   "outputs": [
    {
     "name": "stdout",
     "output_type": "stream",
     "text": [
      "+---+------+----------------+------+------+-----+--------------------+\n",
      "|age|gender|            name|course|  roll|marks|               email|\n",
      "+---+------+----------------+------+------+-----+--------------------+\n",
      "| 28|Female| Hubert Oliveras|    DB|  2984|   59|Annika Hoffman_Na...|\n",
      "| 29|Female|Toshiko Hillyard| Cloud| 12899|   62|Margene Moores_Ma...|\n",
      "| 28|  Male|  Celeste Lollis|    PF| 21267|   45|Jeannetta Golden_...|\n",
      "| 29|Female|    Elenore Choy|    DB| 32877|   29|Billi Clore_Mitzi...|\n",
      "| 28|  Male|  Sheryll Towler|   DSA| 41487|   41|Claude Panos_Judi...|\n",
      "| 28|  Male|  Margene Moores|   MVC| 52771|   32|Toshiko Hillyard_...|\n",
      "| 28|  Male|     Neda Briski|   OOP| 61973|   69|Alberta Freund_El...|\n",
      "| 28|Female|    Claude Panos| Cloud| 72409|   85|Sheryll Towler_Al...|\n",
      "| 28|  Male|  Celeste Lollis|   MVC| 81492|   64|Nicole Harwood_Cl...|\n",
      "| 29|  Male|  Cordie Harnois|   OOP| 92882|   51|Judie Chipps_Clem...|\n",
      "| 29|Female|       Kena Wild|   DSA|102285|   35|Dustin Feagins_Ma...|\n",
      "| 29|  Male| Ernest Rossbach|    DB|111449|   53|Maybell Duguay_Ab...|\n",
      "| 28|Female|  Latia Vanhoose|    DB|122502|   27|Latia Vanhoose_Mi...|\n",
      "| 29|Female|  Latia Vanhoose|   MVC|132110|   55|Eda Neathery_Nico...|\n",
      "| 29|  Male|     Neda Briski|    PF|141770|   42|Margene Moores_Mi...|\n",
      "| 29|Female|  Latia Vanhoose|    DB|152159|   27|Claude Panos_Sant...|\n",
      "| 29|  Male|  Loris Crossett|   MVC|161771|   36|Mitzi Seldon_Jenn...|\n",
      "| 29|  Male|  Annika Hoffman|   OOP|171660|   22|Taryn Brownlee_Mi...|\n",
      "| 29|  Male|   Santa Kerfien|    PF|182129|   56|Judie Chipps_Tary...|\n",
      "| 28|Female|Mickey Cortright|    DB|192537|   62|Ernest Rossbach_M...|\n",
      "+---+------+----------------+------+------+-----+--------------------+\n",
      "only showing top 20 rows\n",
      "\n"
     ]
    }
   ],
   "source": [
    "df = spark.read.options(header=\"True\", inferSchema=\"True\").csv(\"StudentData.csv\")\n",
    "df.show()"
   ]
  },
  {
   "cell_type": "code",
   "execution_count": 4,
   "metadata": {},
   "outputs": [
    {
     "name": "stdout",
     "output_type": "stream",
     "text": [
      "+---+------+-----------------+------+-------+-----+--------------------+\n",
      "|age|gender|             name|course|   roll|marks|               email|\n",
      "+---+------+-----------------+------+-------+-----+--------------------+\n",
      "| 28|Female|     Jc Andrepont|    PF| 972733|   20|Eda Neathery_Eda ...|\n",
      "| 28|Female|   Maybell Duguay| Cloud| 261439|   20|Nicole Harwood_Ju...|\n",
      "| 28|  Male|  Marylee Capasso|   DSA|2081560|   20|Sheryll Towler_Do...|\n",
      "| 29|  Male|     Elenore Choy|    DB|3652057|   20|Jc Andrepont_Gonz...|\n",
      "| 29|Female|   Tamera Blakley|   DSA|3911247|   20|Donna Yerby_Bonit...|\n",
      "| 29|  Male|   Jalisa Swenson|   OOP|4751515|   20|Annika Hoffman_Hu...|\n",
      "| 29|Female|  Gonzalo Ferebee|   DSA|5631172|   20|Jeannetta Golden_...|\n",
      "| 29|  Male|Michelle Ruggiero|    PF|6001585|   20|Paris Hutton_Marg...|\n",
      "| 29|Female|Michelle Ruggiero|    DB|9232210|   20|Donna Yerby_Latia...|\n",
      "| 28|  Male|      Abram Nagao| Cloud|2652463|   21|Eda Neathery_Anni...|\n",
      "| 28|  Male|    Kizzy Brenner| Cloud|4622328|   21|Leontine Phillips...|\n",
      "| 28|Female|  Sebrina Maresca|    PF|5742239|   21|Bonita Higuera_Se...|\n",
      "| 28|  Male|   Bonita Higuera| Cloud|7671835|   21|Taryn Brownlee_Se...|\n",
      "| 28|  Male|      Billi Clore|    DB|9151306|   21|Latia Vanhoose_Er...|\n",
      "| 29|Female|  Gonzalo Ferebee|   OOP|2262603|   21|Bonita Higuera_Ch...|\n",
      "| 29|Female|   Alberta Freund|   OOP|4501424|   21|Toshiko Hillyard_...|\n",
      "| 29|  Male|  Sebrina Maresca| Cloud|5042394|   21|Donna Yerby_Miche...|\n",
      "| 29|  Male|   Tamera Blakley|   OOP|7341268|   21|Anna Santos_Naoma...|\n",
      "| 29|Female|   Nicole Harwood|    PF|8121198|   21|Bonita Higuera_Pr...|\n",
      "| 28|Female|     Cheri Kenney| Cloud|2281771|   22|Tamera Blakley_Ab...|\n",
      "+---+------+-----------------+------+-------+-----+--------------------+\n",
      "only showing top 20 rows\n",
      "\n"
     ]
    }
   ],
   "source": [
    "df.sort(\"marks\", \"age\").show()"
   ]
  },
  {
   "cell_type": "code",
   "execution_count": 5,
   "metadata": {},
   "outputs": [
    {
     "name": "stdout",
     "output_type": "stream",
     "text": [
      "+---+------+------------------+------+-------+-----+--------------------+\n",
      "|age|gender|              name|course|   roll|marks|               email|\n",
      "+---+------+------------------+------+-------+-----+--------------------+\n",
      "| 28|  Male|       Niki Klimek|   DSA|5172507|   99|Marylee Capasso_E...|\n",
      "| 28|  Male|    Loris Crossett|   OOP|9692316|   99|Judie Chipps_Mich...|\n",
      "| 29|  Male|    Maybell Duguay|    PF| 701486|   99|Clementina Menke_...|\n",
      "| 29|Female|      Eda Neathery|    PF|9222608|   99|Kena Wild_Lawanda...|\n",
      "| 28|Female|      Judie Chipps|   OOP|5451977|   99|Tamera Blakley_Mi...|\n",
      "| 29|Female|Priscila Tavernier|   OOP|3902993|   99|Celeste Lollis_Bi...|\n",
      "| 29|Female|      Paris Hutton|   DSA| 271472|   99|Sheryll Towler_Al...|\n",
      "| 29|  Male| Michelle Ruggiero|   DSA|1022971|   99|Cordie Harnois_Cl...|\n",
      "| 28|Female|    Melani Engberg| Cloud|1872667|   99|Alberta Freund_Ni...|\n",
      "| 28|Female|    Jalisa Swenson|   MVC|5712033|   99|Dustin Feagins_Hu...|\n",
      "| 29|  Male|   Gonzalo Ferebee|   MVC|5772006|   99|Niki Klimek_Marge...|\n",
      "| 29|Female|    Alberta Freund|   DSA|6071316|   99|Dustin Feagins_Se...|\n",
      "| 29|  Male|    Melani Engberg|    DB|2941257|   98|Claude Panos_Kena...|\n",
      "| 28|  Male|    Jenna Montague|   OOP|3331161|   98|Leontine Phillips...|\n",
      "| 29|Female|  Lawanda Wohlwend| Cloud|7222880|   98|Sheryll Towler_An...|\n",
      "| 28|  Male|  Clementina Menke|   DSA|2772189|   98|Donna Yerby_Judie...|\n",
      "| 28|  Male|    Loris Crossett|   OOP|8172914|   98|Paris Hutton_Pari...|\n",
      "| 28|Female|      Judie Chipps|   DSA|4631068|   98|Toshiko Hillyard_...|\n",
      "| 28|  Male|    Dustin Feagins|    DB|8871049|   98|Jenna Montague_Cl...|\n",
      "| 29|  Male|    Alberta Freund|    DB|1671638|   98|Clementina Menke_...|\n",
      "+---+------+------------------+------+-------+-----+--------------------+\n",
      "only showing top 20 rows\n",
      "\n"
     ]
    }
   ],
   "source": [
    "df.orderBy(df.marks.desc()).show()"
   ]
  },
  {
   "cell_type": "code",
   "execution_count": 6,
   "metadata": {},
   "outputs": [
    {
     "name": "stdout",
     "output_type": "stream",
     "text": [
      "+---+------+-----------------+------+-------+-----+--------------------+\n",
      "|age|gender|             name|course|   roll|marks|               email|\n",
      "+---+------+-----------------+------+-------+-----+--------------------+\n",
      "| 29|  Male|     Elenore Choy|    DB|3652057|   20|Jc Andrepont_Gonz...|\n",
      "| 29|Female|   Tamera Blakley|   DSA|3911247|   20|Donna Yerby_Bonit...|\n",
      "| 29|  Male|   Jalisa Swenson|   OOP|4751515|   20|Annika Hoffman_Hu...|\n",
      "| 29|Female|  Gonzalo Ferebee|   DSA|5631172|   20|Jeannetta Golden_...|\n",
      "| 29|  Male|Michelle Ruggiero|    PF|6001585|   20|Paris Hutton_Marg...|\n",
      "| 29|Female|Michelle Ruggiero|    DB|9232210|   20|Donna Yerby_Latia...|\n",
      "| 28|Female|     Jc Andrepont|    PF| 972733|   20|Eda Neathery_Eda ...|\n",
      "| 28|Female|   Maybell Duguay| Cloud| 261439|   20|Nicole Harwood_Ju...|\n",
      "| 28|  Male|  Marylee Capasso|   DSA|2081560|   20|Sheryll Towler_Do...|\n",
      "| 29|  Male|  Sebrina Maresca| Cloud|5042394|   21|Donna Yerby_Miche...|\n",
      "| 29|Female|   Alberta Freund|   OOP|4501424|   21|Toshiko Hillyard_...|\n",
      "| 29|  Male|   Tamera Blakley|   OOP|7341268|   21|Anna Santos_Naoma...|\n",
      "| 29|Female|   Nicole Harwood|    PF|8121198|   21|Bonita Higuera_Pr...|\n",
      "| 29|Female|  Gonzalo Ferebee|   OOP|2262603|   21|Bonita Higuera_Ch...|\n",
      "| 28|  Male|   Bonita Higuera| Cloud|7671835|   21|Taryn Brownlee_Se...|\n",
      "| 28|Female|  Sebrina Maresca|    PF|5742239|   21|Bonita Higuera_Se...|\n",
      "| 28|  Male|    Kizzy Brenner| Cloud|4622328|   21|Leontine Phillips...|\n",
      "| 28|  Male|      Abram Nagao| Cloud|2652463|   21|Eda Neathery_Anni...|\n",
      "| 28|  Male|      Billi Clore|    DB|9151306|   21|Latia Vanhoose_Er...|\n",
      "| 29|Female|   Maybell Duguay|   MVC|1102536|   22|Somer Stoecker_Ma...|\n",
      "+---+------+-----------------+------+-------+-----+--------------------+\n",
      "only showing top 20 rows\n",
      "\n"
     ]
    }
   ],
   "source": [
    "df.orderBy(df.marks.asc(), df.age.desc()).show()"
   ]
  }
 ],
 "metadata": {
  "kernelspec": {
   "display_name": "pyspark",
   "language": "python",
   "name": "python3"
  },
  "language_info": {
   "codemirror_mode": {
    "name": "ipython",
    "version": 3
   },
   "file_extension": ".py",
   "mimetype": "text/x-python",
   "name": "python",
   "nbconvert_exporter": "python",
   "pygments_lexer": "ipython3",
   "version": "3.9.18"
  }
 },
 "nbformat": 4,
 "nbformat_minor": 2
}
