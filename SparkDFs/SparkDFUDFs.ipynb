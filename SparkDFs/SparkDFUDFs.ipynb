{
 "cells": [
  {
   "cell_type": "code",
   "execution_count": 7,
   "metadata": {},
   "outputs": [],
   "source": [
    "from pyspark.sql import SparkSession\n",
    "from pyspark.sql.functions import udf, lit, col\n",
    "from pyspark.sql.types import IntegerType\n",
    "spark = SparkSession.builder.appName(\"SparkDFUDFs\").getOrCreate()"
   ]
  },
  {
   "cell_type": "code",
   "execution_count": 8,
   "metadata": {},
   "outputs": [
    {
     "name": "stdout",
     "output_type": "stream",
     "text": [
      "+-------------+----------+-----+------+---+-----+\n",
      "|employee_name|department|state|salary|age|bonus|\n",
      "+-------------+----------+-----+------+---+-----+\n",
      "|        James|     Sales|   NY| 90000| 34|10000|\n",
      "|      Michael|     Sales|   NY| 86000| 56|20000|\n",
      "|       Robert|     Sales|   CA| 81000| 30|23000|\n",
      "|        Maria|   Finance|   CA| 90000| 24|23000|\n",
      "|        Raman|   Finance|   CA| 99000| 40|24000|\n",
      "|        Scott|   Finance|   NY| 83000| 36|19000|\n",
      "|          Jen|   Finance|   NY| 79000| 53|15000|\n",
      "|         Jeff| Marketing|   CA| 80000| 25|18000|\n",
      "|        Kumar| Marketing|   NY| 91000| 50|21000|\n",
      "+-------------+----------+-----+------+---+-----+\n",
      "\n"
     ]
    }
   ],
   "source": [
    "df = spark.read.options(header=\"True\", inferSchema=\"True\").csv(\"OfficeData.csv\")\n",
    "df.show()"
   ]
  },
  {
   "cell_type": "code",
   "execution_count": 9,
   "metadata": {},
   "outputs": [],
   "source": [
    "def get_total_salary(salary, bonus):\n",
    "    return salary + bonus"
   ]
  },
  {
   "cell_type": "code",
   "execution_count": 10,
   "metadata": {},
   "outputs": [],
   "source": [
    "totalSalaryUDF = udf(lambda x, y: get_total_salary(x , y), IntegerType())"
   ]
  },
  {
   "cell_type": "code",
   "execution_count": 11,
   "metadata": {},
   "outputs": [
    {
     "name": "stdout",
     "output_type": "stream",
     "text": [
      "+-------------+----------+-----+------+---+-----+------------+\n",
      "|employee_name|department|state|salary|age|bonus|total_salary|\n",
      "+-------------+----------+-----+------+---+-----+------------+\n",
      "|        James|     Sales|   NY| 90000| 34|10000|      100000|\n",
      "|      Michael|     Sales|   NY| 86000| 56|20000|      106000|\n",
      "|       Robert|     Sales|   CA| 81000| 30|23000|      104000|\n",
      "|        Maria|   Finance|   CA| 90000| 24|23000|      113000|\n",
      "|        Raman|   Finance|   CA| 99000| 40|24000|      123000|\n",
      "|        Scott|   Finance|   NY| 83000| 36|19000|      102000|\n",
      "|          Jen|   Finance|   NY| 79000| 53|15000|       94000|\n",
      "|         Jeff| Marketing|   CA| 80000| 25|18000|       98000|\n",
      "|        Kumar| Marketing|   NY| 91000| 50|21000|      112000|\n",
      "+-------------+----------+-----+------+---+-----+------------+\n",
      "\n"
     ]
    }
   ],
   "source": [
    "df.withColumn(\"total_salary\", totalSalaryUDF(col(\"salary\"), col(\"bonus\"))).show()"
   ]
  },
  {
   "cell_type": "code",
   "execution_count": 12,
   "metadata": {},
   "outputs": [],
   "source": [
    "spark.stop()"
   ]
  }
 ],
 "metadata": {
  "kernelspec": {
   "display_name": "pyspark",
   "language": "python",
   "name": "python3"
  },
  "language_info": {
   "codemirror_mode": {
    "name": "ipython",
    "version": 3
   },
   "file_extension": ".py",
   "mimetype": "text/x-python",
   "name": "python",
   "nbconvert_exporter": "python",
   "pygments_lexer": "ipython3",
   "version": "3.9.18"
  }
 },
 "nbformat": 4,
 "nbformat_minor": 2
}
