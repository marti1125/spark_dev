{
 "cells": [
  {
   "cell_type": "code",
   "execution_count": 1,
   "metadata": {},
   "outputs": [
    {
     "name": "stderr",
     "output_type": "stream",
     "text": [
      "23/11/13 13:21:26 WARN Utils: Your hostname, Willys-MacBook-Pro.local resolves to a loopback address: 127.0.0.1; using 192.168.1.5 instead (on interface en0)\n",
      "23/11/13 13:21:26 WARN Utils: Set SPARK_LOCAL_IP if you need to bind to another address\n",
      "Setting default log level to \"WARN\".\n",
      "To adjust logging level use sc.setLogLevel(newLevel). For SparkR, use setLogLevel(newLevel).\n",
      "23/11/13 13:21:27 WARN NativeCodeLoader: Unable to load native-hadoop library for your platform... using builtin-java classes where applicable\n",
      "23/11/13 13:21:27 WARN Utils: Service 'SparkUI' could not bind on port 4040. Attempting port 4041.\n"
     ]
    }
   ],
   "source": [
    "from pyspark.sql import SparkSession\n",
    "spark = SparkSession.builder.appName('SparkDFDistinctDuplicate').getOrCreate()"
   ]
  },
  {
   "cell_type": "code",
   "execution_count": 2,
   "metadata": {},
   "outputs": [
    {
     "name": "stdout",
     "output_type": "stream",
     "text": [
      "+---+------+----------------+------+------+-----+--------------------+\n",
      "|age|gender|            name|course|  roll|marks|               email|\n",
      "+---+------+----------------+------+------+-----+--------------------+\n",
      "| 28|Female| Hubert Oliveras|    DB|  2984|   59|Annika Hoffman_Na...|\n",
      "| 29|Female|Toshiko Hillyard| Cloud| 12899|   62|Margene Moores_Ma...|\n",
      "| 28|  Male|  Celeste Lollis|    PF| 21267|   45|Jeannetta Golden_...|\n",
      "| 29|Female|    Elenore Choy|    DB| 32877|   29|Billi Clore_Mitzi...|\n",
      "| 28|  Male|  Sheryll Towler|   DSA| 41487|   41|Claude Panos_Judi...|\n",
      "| 28|  Male|  Margene Moores|   MVC| 52771|   32|Toshiko Hillyard_...|\n",
      "| 28|  Male|     Neda Briski|   OOP| 61973|   69|Alberta Freund_El...|\n",
      "| 28|Female|    Claude Panos| Cloud| 72409|   85|Sheryll Towler_Al...|\n",
      "| 28|  Male|  Celeste Lollis|   MVC| 81492|   64|Nicole Harwood_Cl...|\n",
      "| 29|  Male|  Cordie Harnois|   OOP| 92882|   51|Judie Chipps_Clem...|\n",
      "| 29|Female|       Kena Wild|   DSA|102285|   35|Dustin Feagins_Ma...|\n",
      "| 29|  Male| Ernest Rossbach|    DB|111449|   53|Maybell Duguay_Ab...|\n",
      "| 28|Female|  Latia Vanhoose|    DB|122502|   27|Latia Vanhoose_Mi...|\n",
      "| 29|Female|  Latia Vanhoose|   MVC|132110|   55|Eda Neathery_Nico...|\n",
      "| 29|  Male|     Neda Briski|    PF|141770|   42|Margene Moores_Mi...|\n",
      "| 29|Female|  Latia Vanhoose|    DB|152159|   27|Claude Panos_Sant...|\n",
      "| 29|  Male|  Loris Crossett|   MVC|161771|   36|Mitzi Seldon_Jenn...|\n",
      "| 29|  Male|  Annika Hoffman|   OOP|171660|   22|Taryn Brownlee_Mi...|\n",
      "| 29|  Male|   Santa Kerfien|    PF|182129|   56|Judie Chipps_Tary...|\n",
      "| 28|Female|Mickey Cortright|    DB|192537|   62|Ernest Rossbach_M...|\n",
      "+---+------+----------------+------+------+-----+--------------------+\n",
      "only showing top 20 rows\n",
      "\n"
     ]
    }
   ],
   "source": [
    "df = spark.read.options(header=\"True\", inferSchema=\"True\").csv(\"StudentData.csv\")\n",
    "df.show()"
   ]
  },
  {
   "cell_type": "code",
   "execution_count": 3,
   "metadata": {},
   "outputs": [
    {
     "name": "stdout",
     "output_type": "stream",
     "text": [
      "+---+------+------+\n",
      "|age|gender|course|\n",
      "+---+------+------+\n",
      "| 28|Female|    DB|\n",
      "| 29|Female| Cloud|\n",
      "| 28|  Male|    PF|\n",
      "| 29|Female|    DB|\n",
      "| 28|  Male|   DSA|\n",
      "| 28|  Male|   MVC|\n",
      "| 28|  Male|   OOP|\n",
      "| 28|Female| Cloud|\n",
      "| 28|  Male|   MVC|\n",
      "| 29|  Male|   OOP|\n",
      "| 29|Female|   DSA|\n",
      "| 29|  Male|    DB|\n",
      "| 28|Female|    DB|\n",
      "| 29|Female|   MVC|\n",
      "| 29|  Male|    PF|\n",
      "| 29|Female|    DB|\n",
      "| 29|  Male|   MVC|\n",
      "| 29|  Male|   OOP|\n",
      "| 29|  Male|    PF|\n",
      "| 28|Female|    DB|\n",
      "+---+------+------+\n",
      "only showing top 20 rows\n",
      "\n"
     ]
    }
   ],
   "source": [
    "df2 = df.select(\"age\", \"gender\", \"course\")\n",
    "df2.show()"
   ]
  },
  {
   "cell_type": "code",
   "execution_count": 4,
   "metadata": {},
   "outputs": [
    {
     "name": "stdout",
     "output_type": "stream",
     "text": [
      "+---+------+------+\n",
      "|age|gender|course|\n",
      "+---+------+------+\n",
      "| 28|  Male| Cloud|\n",
      "| 28|Female|    DB|\n",
      "| 28|Female|   MVC|\n",
      "| 29|  Male|    PF|\n",
      "| 28|Female|   OOP|\n",
      "| 29|Female| Cloud|\n",
      "| 29|  Male| Cloud|\n",
      "| 29|Female|   DSA|\n",
      "| 29|  Male|   OOP|\n",
      "| 29|  Male|    DB|\n",
      "| 28|Female|    PF|\n",
      "| 29|Female|   MVC|\n",
      "| 29|Female|    DB|\n",
      "| 28|  Male|    PF|\n",
      "| 29|  Male|   DSA|\n",
      "| 28|Female| Cloud|\n",
      "| 29|Female|   OOP|\n",
      "| 29|  Male|   MVC|\n",
      "| 28|  Male|   OOP|\n",
      "| 28|  Male|   DSA|\n",
      "+---+------+------+\n",
      "only showing top 20 rows\n",
      "\n"
     ]
    }
   ],
   "source": [
    "df2.distinct().show()"
   ]
  },
  {
   "cell_type": "code",
   "execution_count": 5,
   "metadata": {},
   "outputs": [
    {
     "name": "stdout",
     "output_type": "stream",
     "text": [
      "+---+------+----------------+------+-------+-----+--------------------+\n",
      "|age|gender|            name|course|   roll|marks|               email|\n",
      "+---+------+----------------+------+-------+-----+--------------------+\n",
      "| 28|Female|     Abram Nagao|    DB|2632057|   25|Margene Moores_So...|\n",
      "| 28|Female|  Alberta Freund|   OOP| 251805|   83|Annika Hoffman_Sh...|\n",
      "| 28|Female|     Anna Santos|    DB| 311589|   79|Celeste Lollis_Mi...|\n",
      "| 28|Female|  Annika Hoffman|   DSA|4162718|   63|Gonzalo Ferebee_B...|\n",
      "| 28|Female|     Billi Clore| Cloud| 801693|   38|Niki Klimek_Kizzy...|\n",
      "| 28|Female|  Bonita Higuera|   DSA|1122348|   51|Somer Stoecker_Je...|\n",
      "| 28|Female|  Celeste Lollis|   DSA| 731879|   76|Hubert Oliveras_G...|\n",
      "| 28|Female|    Cheri Kenney|   MVC| 321816|   24|Kena Wild_Michell...|\n",
      "| 28|Female|    Claude Panos| Cloud|  72409|   85|Sheryll Towler_Al...|\n",
      "| 28|Female|Clementina Menke|   OOP|4301606|   77|Naoma Fritts_Leon...|\n",
      "| 28|Female|  Cordie Harnois|   OOP|1231943|   68|Mickey Cortright_...|\n",
      "| 28|Female|     Donna Yerby| Cloud|4392575|   22|Leontine Phillips...|\n",
      "| 28|Female|  Dustin Feagins|   DSA| 291984|   82|Abram Nagao_Kena ...|\n",
      "| 28|Female|    Eda Neathery| Cloud|1272870|   69|Somer Stoecker_Du...|\n",
      "| 28|Female|    Elenore Choy|   OOP|3521960|   90|Sebrina Maresca_T...|\n",
      "| 28|Female| Ernest Rossbach| Cloud|2602027|   83|Alberta Freund_Go...|\n",
      "| 28|Female| Gonzalo Ferebee|    DB|1451513|   69|Claude Panos_Tame...|\n",
      "| 28|Female| Hubert Oliveras|    DB|   2984|   59|Annika Hoffman_Na...|\n",
      "| 28|Female|  Jalisa Swenson|   OOP| 431352|   25|Gonzalo Ferebee_J...|\n",
      "| 28|Female|    Jc Andrepont|   DSA| 232060|   58|Billi Clore_Abram...|\n",
      "+---+------+----------------+------+-------+-----+--------------------+\n",
      "only showing top 20 rows\n",
      "\n"
     ]
    }
   ],
   "source": [
    "df3 = df.dropDuplicates([\"age\", \"gender\", \"name\"])\n",
    "df3.show()"
   ]
  }
 ],
 "metadata": {
  "kernelspec": {
   "display_name": "pyspark",
   "language": "python",
   "name": "python3"
  },
  "language_info": {
   "codemirror_mode": {
    "name": "ipython",
    "version": 3
   },
   "file_extension": ".py",
   "mimetype": "text/x-python",
   "name": "python",
   "nbconvert_exporter": "python",
   "pygments_lexer": "ipython3",
   "version": "3.9.18"
  }
 },
 "nbformat": 4,
 "nbformat_minor": 2
}
